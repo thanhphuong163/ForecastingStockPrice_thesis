{
 "cells": [
  {
   "cell_type": "code",
   "execution_count": 1,
   "metadata": {
    "ExecuteTime": {
     "end_time": "2019-05-22T07:37:02.291388Z",
     "start_time": "2019-05-22T07:37:01.979804Z"
    }
   },
   "outputs": [],
   "source": [
    "%load_ext autoreload\n",
    "%autoreload 2\n",
    "%matplotlib inline\n",
    "%config InlineBackend.figure_format='retina'"
   ]
  },
  {
   "cell_type": "code",
   "execution_count": 2,
   "metadata": {
    "ExecuteTime": {
     "end_time": "2019-05-22T07:37:03.249885Z",
     "start_time": "2019-05-22T07:37:02.293576Z"
    }
   },
   "outputs": [],
   "source": [
    "import numpy as np\n",
    "import pandas as pd\n",
    "import time\n",
    "from datetime import datetime\n",
    "from pymongo import MongoClient\n",
    "\n",
    "from src.config_tickets import ticket_lst\n",
    "from src.scraping import WebScraping\n",
    "from src.settings import HOST\n",
    "from src.query_data import QueryData\n",
    "from src.utilities import run_model_with_parameters, run_model_without_parameters\n",
    "\n",
    "import sys\n",
    "\n",
    "if not sys.warnoptions:\n",
    "    import warnings\n",
    "    warnings.simplefilter(\"ignore\")"
   ]
  },
  {
   "cell_type": "code",
   "execution_count": 3,
   "metadata": {
    "ExecuteTime": {
     "end_time": "2019-05-22T07:37:03.316267Z",
     "start_time": "2019-05-22T07:37:03.253833Z"
    }
   },
   "outputs": [],
   "source": [
    "# Display and Plotting\n",
    "import matplotlib.pylab as plt\n",
    "import seaborn as sns\n",
    "\n",
    "from ipywidgets import interactive, widgets, RadioButtons, ToggleButton, Select, FloatSlider, FloatRangeSlider, IntSlider, fixed\n",
    "\n",
    "pd.set_option('display.float_format', lambda x: '%.5f' % x) # pandas\n",
    "np.set_printoptions(precision=5, suppress=True) # numpy\n",
    "\n",
    "pd.set_option('display.max_columns', 100)\n",
    "pd.set_option('display.max_rows', 100)\n",
    "\n",
    "# seaborn plotting style\n",
    "sns.set(style='ticks', context='poster')"
   ]
  },
  {
   "cell_type": "code",
   "execution_count": 4,
   "metadata": {
    "ExecuteTime": {
     "end_time": "2019-05-22T07:37:03.347363Z",
     "start_time": "2019-05-22T07:37:03.320102Z"
    }
   },
   "outputs": [],
   "source": [
    "def connect_2_dbServer():\n",
    "    mongoClient = MongoClient(HOST)\n",
    "    return mongoClient"
   ]
  },
  {
   "cell_type": "code",
   "execution_count": 5,
   "metadata": {
    "ExecuteTime": {
     "end_time": "2019-05-22T07:37:03.380532Z",
     "start_time": "2019-05-22T07:37:03.350572Z"
    }
   },
   "outputs": [],
   "source": [
    "client = connect_2_dbServer()\n",
    "query = QueryData(client)"
   ]
  },
  {
   "cell_type": "code",
   "execution_count": 6,
   "metadata": {
    "ExecuteTime": {
     "end_time": "2019-05-22T07:37:03.731064Z",
     "start_time": "2019-05-22T07:37:03.382342Z"
    }
   },
   "outputs": [
    {
     "name": "stdout",
     "output_type": "stream",
     "text": [
      "['Ho Chi Minh City Infrastructure Investment JSC', 'Ho Chi Minh City Development Joint Stock Commercial Bank', 'Hoa Phat Group JSC', 'Masan Group Corp', 'Military Commercial Joint Stock Bank', 'Mobile World Investment Corp', 'No Va Land Investment Group Corp', 'PetroVietnam Fertilizer and Chemicals Corp', 'Phu Nhuan Jewelry JSC', 'Refrigeration Electrical Engineering Corp', 'Sai Gon Thuong Tin Commercial Joint Stock Bank', 'Saigon Beer Alcohol Beverage Corp', 'Saigon Securities Incorporation', 'Vietnam Technological And Commercial Joint Stock Bank', 'Thanh Thanh Cong Tay Ninh JSC', 'Joint Stock Commercial Bank for Foreign Trade of Vietnam', 'Vietjet Aviation JSC', 'Vietnam Export Import Commercial Joint Stock Bank', 'Vietnam JSCmmercial Bank for Industry and Trade', 'Vietnam Prosperity Joint Stock Commercial Bank', 'Vietnam Dairy Products JSC', 'Vincom Retail JSC', 'Vingroup JSC', 'Vinhomes JSC', 'Petrovietnam Gas JSC']\n"
     ]
    }
   ],
   "source": [
    "lst_ticket = query.get_list_ticket(index='VN 30 (VNI30)')\n",
    "print(lst_ticket)"
   ]
  },
  {
   "cell_type": "code",
   "execution_count": 7,
   "metadata": {
    "ExecuteTime": {
     "end_time": "2019-05-22T07:37:03.851613Z",
     "start_time": "2019-05-22T07:37:03.733782Z"
    }
   },
   "outputs": [],
   "source": [
    "start = datetime(2010,1,1)\n",
    "end = datetime(2019,1,1)\n",
    "\n",
    "df = query.get_historical_data(lst_ticket[:5], start=start)\n",
    "closed_price = dict()\n",
    "for ticket in lst_ticket[:5]:\n",
    "    closed_price[ticket] = df[df.name == ticket]['close']"
   ]
  },
  {
   "cell_type": "markdown",
   "metadata": {},
   "source": [
    "## Plot ACF and PACF"
   ]
  },
  {
   "cell_type": "code",
   "execution_count": 8,
   "metadata": {
    "ExecuteTime": {
     "end_time": "2019-05-22T07:37:03.889856Z",
     "start_time": "2019-05-22T07:37:03.853793Z"
    }
   },
   "outputs": [],
   "source": [
    "from statsmodels.tsa.stattools import pacf, acf\n",
    "\n",
    "def calculate_acf(time_series, lag=20, alpha=0.01):\n",
    "    x = time_series.values\n",
    "    acf_value, confint = acf(x, nlags=lag, alpha=alpha)\n",
    "    confint_lower = confint[:, 0] - acf_value\n",
    "    confint_upper = confint[:, 1] - acf_value\n",
    "    return acf_value, confint_upper, confint_lower\n",
    "\n",
    "\n",
    "def calculate_pacf(time_series, lag=20, alpha=0.01):\n",
    "    x = time_series.values\n",
    "    pacf_value, confint = pacf(x, nlags=lag, alpha=alpha)\n",
    "    confint_lower = confint[:, 0] - pacf_value\n",
    "    confint_upper = confint[:, 1] - pacf_value\n",
    "    return pacf_value, confint_upper, confint_lower"
   ]
  },
  {
   "cell_type": "markdown",
   "metadata": {},
   "source": [
    "## Run model"
   ]
  },
  {
   "cell_type": "markdown",
   "metadata": {},
   "source": [
    "### ARIMA model"
   ]
  },
  {
   "cell_type": "code",
   "execution_count": 9,
   "metadata": {
    "ExecuteTime": {
     "end_time": "2019-05-22T07:37:09.456663Z",
     "start_time": "2019-05-22T07:37:03.893591Z"
    }
   },
   "outputs": [
    {
     "name": "stdout",
     "output_type": "stream",
     "text": [
      "Ho Chi Minh City Infrastructure Investment JSC\n",
      "Training result: {'mse': 1528427.1551039552, 'rmse': 1236.2957393374593, 'mae': 914.2229254063786, 'mape': 3.4072648055471966}\n",
      "Testing result: {'mse': 469982.5635552166, 'rmse': 685.5527430878069, 'mae': 593.2397727274613, 'mape': 2.487501418118101}\n",
      "Ho Chi Minh City Development Joint Stock Commercial Bank\n",
      "Training result: {'mse': 734718.4223398807, 'rmse': 857.1571748167781, 'mae': 719.1308315885542, 'mape': 2.457940773079639}\n",
      "Testing result: {'mse': 166214.47565128782, 'rmse': 407.6940956787182, 'mae': 373.40884338643326, 'mape': 1.3804961732623877}\n",
      "Hoa Phat Group JSC\n",
      "Training result: {'mse': 776865.3481956312, 'rmse': 881.3996529359603, 'mae': 658.9848236834844, 'mape': 1.9249704193309034}\n",
      "Testing result: {'mse': 719950.6418130983, 'rmse': 848.4990523348263, 'mae': 586.5094891612478, 'mape': 1.7948011621466347}\n",
      "Masan Group Corp\n",
      "Training result: {'mse': 13155740.653682549, 'rmse': 3627.084318523978, 'mae': 2193.2723989173296, 'mape': 2.6441500701086804}\n",
      "Testing result: {'mse': 4237839.185952517, 'rmse': 2058.6012692973154, 'mae': 1424.5722968200914, 'mape': 1.6473309680206045}\n",
      "Military Commercial Joint Stock Bank\n",
      "Training result: {'mse': 568053.9197429796, 'rmse': 753.6935184429939, 'mae': 560.6947614956272, 'mape': 2.661135314010344}\n",
      "Testing result: {'mse': 383805.3350214576, 'rmse': 619.5202458527547, 'mae': 479.70724536429213, 'mape': 2.2737040367882098}\n"
     ]
    }
   ],
   "source": [
    "for ticket in lst_ticket[:5]:\n",
    "    time_series = df[df.name == ticket]['close']\n",
    "    result = run_model_with_parameters(time_series, model_selection='ARIMA')\n",
    "    time.sleep(1)\n",
    "    print(ticket)\n",
    "    print('Training result:', result['train_evaluation'])\n",
    "    print('Testing result:', result['test_evaluation'])"
   ]
  },
  {
   "cell_type": "markdown",
   "metadata": {},
   "source": [
    "### ANN model"
   ]
  },
  {
   "cell_type": "code",
   "execution_count": 10,
   "metadata": {
    "ExecuteTime": {
     "end_time": "2019-05-22T07:37:14.948527Z",
     "start_time": "2019-05-22T07:37:09.459567Z"
    }
   },
   "outputs": [
    {
     "name": "stdout",
     "output_type": "stream",
     "text": [
      "Ho Chi Minh City Infrastructure Investment JSC\n",
      "Training result: {'mse': 961165.8066176894, 'rmse': 980.3906398052204, 'mae': 714.8648720144886, 'mape': 2.7782934385628493}\n",
      "Testing result: {'mse': 427087.53178132547, 'rmse': 653.5193430812324, 'mae': 559.4648079444545, 'mape': 2.3380751018065604}\n",
      "Ho Chi Minh City Development Joint Stock Commercial Bank\n",
      "Training result: {'mse': 689164.7340562785, 'rmse': 830.1594630288077, 'mae': 706.9567843923963, 'mape': 2.4052389308762474}\n",
      "Testing result: {'mse': 184993.17037085633, 'rmse': 430.10832399624206, 'mae': 371.84294728200985, 'mape': 1.3722044533962285}\n",
      "Hoa Phat Group JSC\n",
      "Training result: {'mse': 1199616.0904186007, 'rmse': 1095.2698710448492, 'mae': 860.8871552277121, 'mape': 2.465691285932503}\n",
      "Testing result: {'mse': 517387.41704119794, 'rmse': 719.296473674936, 'mae': 552.7155236992571, 'mape': 1.6934660331555824}\n",
      "Masan Group Corp\n",
      "Training result: {'mse': 12768197.800845206, 'rmse': 3573.2615074809746, 'mae': 2537.8331296627657, 'mape': 3.042525850711452}\n",
      "Testing result: {'mse': 2899769.4052754724, 'rmse': 1702.8709303043117, 'mae': 1316.5488363343227, 'mape': 1.5216018314366844}\n",
      "Military Commercial Joint Stock Bank\n",
      "Training result: {'mse': 617967.0731891805, 'rmse': 786.1088176513354, 'mae': 620.0934480493016, 'mape': 2.925366984727154}\n",
      "Testing result: {'mse': 392405.193984606, 'rmse': 626.4225363000648, 'mae': 484.57573632924993, 'mape': 2.2686886531386823}\n"
     ]
    }
   ],
   "source": [
    "for ticket in lst_ticket[:5]:\n",
    "    time_series = df[df.name == ticket]['close']\n",
    "    result = run_model_with_parameters(time_series, model_selection='ANN')\n",
    "    time.sleep(1)\n",
    "    print(ticket)\n",
    "    print('Training result:', result['train_evaluation'])\n",
    "    print('Testing result:', result['test_evaluation'])"
   ]
  },
  {
   "cell_type": "markdown",
   "metadata": {},
   "source": [
    "### Hybrid model"
   ]
  },
  {
   "cell_type": "code",
   "execution_count": 11,
   "metadata": {
    "ExecuteTime": {
     "end_time": "2019-05-22T07:37:20.730348Z",
     "start_time": "2019-05-22T07:37:14.952749Z"
    },
    "scrolled": true
   },
   "outputs": [
    {
     "name": "stdout",
     "output_type": "stream",
     "text": [
      "Ho Chi Minh City Infrastructure Investment JSC\n",
      "Training result: {'mse': 1083152.0403941283, 'rmse': 1040.7459057782203, 'mae': 781.0790663131805, 'mape': 3.0239406286107924}\n",
      "Testing result: {'mse': 543039.9367330978, 'rmse': 736.9124349155046, 'mae': 624.2998135276372, 'mape': 2.620166519530568}\n",
      "Ho Chi Minh City Development Joint Stock Commercial Bank\n",
      "Training result: {'mse': 607773.1220033577, 'rmse': 779.5980515646237, 'mae': 621.6751677594534, 'mape': 2.11873989972792}\n",
      "Testing result: {'mse': 428807.2023616961, 'rmse': 654.8337211549938, 'mae': 622.9707447552197, 'mape': 2.3105427143361683}\n",
      "Hoa Phat Group JSC\n",
      "Training result: {'mse': 801328.102462145, 'rmse': 895.1693149690426, 'mae': 679.8606412314123, 'mape': 1.9971260542346299}\n",
      "Testing result: {'mse': 1078281.9203000832, 'rmse': 1038.4035440521586, 'mae': 783.7505439223044, 'mape': 2.3914468578490404}\n",
      "Masan Group Corp\n",
      "Training result: {'mse': 13807754.75049805, 'rmse': 3715.8787319418875, 'mae': 2435.0276823690297, 'mape': 2.9339177525582567}\n",
      "Testing result: {'mse': 7683292.480951961, 'rmse': 2771.8752643205216, 'mae': 2422.004750379123, 'mape': 2.798954980513125}\n",
      "Military Commercial Joint Stock Bank\n",
      "Training result: {'mse': 583932.1646598423, 'rmse': 764.1545423929915, 'mae': 568.0735898691066, 'mape': 2.6889364465077112}\n",
      "Testing result: {'mse': 445895.53879026667, 'rmse': 667.7541005417089, 'mae': 544.8174085931306, 'mape': 2.5625124198352447}\n"
     ]
    }
   ],
   "source": [
    "for ticket in lst_ticket[:5]:\n",
    "    time_series = df[df.name == ticket]['close']\n",
    "    result = run_model_with_parameters(time_series, model_selection='Hybrid')\n",
    "    time.sleep(1)\n",
    "    print(ticket)\n",
    "    print('Training result:', result['train_evaluation'])\n",
    "    print('Testing result:', result['test_evaluation'])"
   ]
  },
  {
   "cell_type": "markdown",
   "metadata": {},
   "source": [
    "### Run model without parameters"
   ]
  },
  {
   "cell_type": "code",
   "execution_count": 14,
   "metadata": {
    "ExecuteTime": {
     "end_time": "2019-05-22T07:49:37.831031Z",
     "start_time": "2019-05-22T07:42:41.426636Z"
    },
    "scrolled": false
   },
   "outputs": [
    {
     "data": {
      "application/vnd.jupyter.widget-view+json": {
       "model_id": "0923c04fb96748d5adfbe7af74c31a05",
       "version_major": 2,
       "version_minor": 0
      },
      "text/plain": [
       "HBox(children=(IntProgress(value=0, description='Choosing ARIMA', max=24, style=ProgressStyle(description_widt…"
      ]
     },
     "metadata": {},
     "output_type": "display_data"
    },
    {
     "name": "stdout",
     "output_type": "stream",
     "text": [
      "\n"
     ]
    },
    {
     "data": {
      "application/vnd.jupyter.widget-view+json": {
       "model_id": "0cc0b39639f946a4b57aef886aaa3819",
       "version_major": 2,
       "version_minor": 0
      },
      "text/plain": [
       "HBox(children=(IntProgress(value=0, description='Choosing ANN', max=75, style=ProgressStyle(description_width=…"
      ]
     },
     "metadata": {},
     "output_type": "display_data"
    },
    {
     "name": "stdout",
     "output_type": "stream",
     "text": [
      "\n",
      "Ho Chi Minh City Infrastructure Investment JSC : 3 (5, 2) (2, 1, 2)\n"
     ]
    },
    {
     "data": {
      "application/vnd.jupyter.widget-view+json": {
       "model_id": "46ea8ecd9f1d44feb12d1a3a808846a4",
       "version_major": 2,
       "version_minor": 0
      },
      "text/plain": [
       "HBox(children=(IntProgress(value=0, description='Choosing ARIMA', max=24, style=ProgressStyle(description_widt…"
      ]
     },
     "metadata": {},
     "output_type": "display_data"
    },
    {
     "name": "stdout",
     "output_type": "stream",
     "text": [
      "\n"
     ]
    },
    {
     "data": {
      "application/vnd.jupyter.widget-view+json": {
       "model_id": "06aaaff50d854ccab3465a462de5fde5",
       "version_major": 2,
       "version_minor": 0
      },
      "text/plain": [
       "HBox(children=(IntProgress(value=0, description='Choosing ANN', max=75, style=ProgressStyle(description_width=…"
      ]
     },
     "metadata": {},
     "output_type": "display_data"
    },
    {
     "name": "stdout",
     "output_type": "stream",
     "text": [
      "\n",
      "Ho Chi Minh City Development Joint Stock Commercial Bank : 3 (6, 3) (1, 1, 3)\n"
     ]
    },
    {
     "data": {
      "application/vnd.jupyter.widget-view+json": {
       "model_id": "1f84be5af5e848acadbb3085448de42b",
       "version_major": 2,
       "version_minor": 0
      },
      "text/plain": [
       "HBox(children=(IntProgress(value=0, description='Choosing ARIMA', max=24, style=ProgressStyle(description_widt…"
      ]
     },
     "metadata": {},
     "output_type": "display_data"
    },
    {
     "name": "stdout",
     "output_type": "stream",
     "text": [
      "\n"
     ]
    },
    {
     "data": {
      "application/vnd.jupyter.widget-view+json": {
       "model_id": "90b02a62d15a497eb9e228db877d6b4a",
       "version_major": 2,
       "version_minor": 0
      },
      "text/plain": [
       "HBox(children=(IntProgress(value=0, description='Choosing ANN', max=75, style=ProgressStyle(description_width=…"
      ]
     },
     "metadata": {},
     "output_type": "display_data"
    },
    {
     "name": "stdout",
     "output_type": "stream",
     "text": [
      "\n",
      "Hoa Phat Group JSC : 1 (5, 1) (3, 0, 1)\n"
     ]
    },
    {
     "data": {
      "application/vnd.jupyter.widget-view+json": {
       "model_id": "171647af3c7e47a19f0366abb995b8fb",
       "version_major": 2,
       "version_minor": 0
      },
      "text/plain": [
       "HBox(children=(IntProgress(value=0, description='Choosing ARIMA', max=24, style=ProgressStyle(description_widt…"
      ]
     },
     "metadata": {},
     "output_type": "display_data"
    },
    {
     "name": "stdout",
     "output_type": "stream",
     "text": [
      "\n"
     ]
    },
    {
     "data": {
      "application/vnd.jupyter.widget-view+json": {
       "model_id": "5a07b699aac04978a729cd92b9d59407",
       "version_major": 2,
       "version_minor": 0
      },
      "text/plain": [
       "HBox(children=(IntProgress(value=0, description='Choosing ANN', max=75, style=ProgressStyle(description_width=…"
      ]
     },
     "metadata": {},
     "output_type": "display_data"
    },
    {
     "name": "stdout",
     "output_type": "stream",
     "text": [
      "\n",
      "Masan Group Corp : 1 (3, 2) (3, 1, 3)\n"
     ]
    },
    {
     "data": {
      "application/vnd.jupyter.widget-view+json": {
       "model_id": "457f4f76c09a452bbf3297a9e8c04d6d",
       "version_major": 2,
       "version_minor": 0
      },
      "text/plain": [
       "HBox(children=(IntProgress(value=0, description='Choosing ARIMA', max=24, style=ProgressStyle(description_widt…"
      ]
     },
     "metadata": {},
     "output_type": "display_data"
    },
    {
     "name": "stdout",
     "output_type": "stream",
     "text": [
      "\n"
     ]
    },
    {
     "data": {
      "application/vnd.jupyter.widget-view+json": {
       "model_id": "be41832207234250b88bee443e2fba02",
       "version_major": 2,
       "version_minor": 0
      },
      "text/plain": [
       "HBox(children=(IntProgress(value=0, description='Choosing ANN', max=75, style=ProgressStyle(description_width=…"
      ]
     },
     "metadata": {},
     "output_type": "display_data"
    },
    {
     "name": "stdout",
     "output_type": "stream",
     "text": [
      "\n",
      "Military Commercial Joint Stock Bank : 2 (6, 1) (1, 1, 2)\n"
     ]
    }
   ],
   "source": [
    "for ticket in lst_ticket[:5]:\n",
    "    time_series = df[df.name == ticket]['close']\n",
    "    result, lst_result = run_model_without_parameters(time_series, model_selection='Hybrid', q=range(0, 4))\n",
    "    print(ticket, ':', result['lag'], result['hidden_layers'], result['order'])"
   ]
  },
  {
   "cell_type": "code",
   "execution_count": 15,
   "metadata": {
    "ExecuteTime": {
     "end_time": "2019-05-22T07:56:09.268290Z",
     "start_time": "2019-05-22T07:55:07.974819Z"
    }
   },
   "outputs": [
    {
     "name": "stdout",
     "output_type": "stream",
     "text": [
      "Ho Chi Minh City Infrastructure Investment JSC : (2, 1, 2)\n",
      "Ho Chi Minh City Development Joint Stock Commercial Bank : (3, 1, 0)\n",
      "Hoa Phat Group JSC : (1, 0, 0)\n",
      "Masan Group Corp : (1, 1, 2)\n",
      "Military Commercial Joint Stock Bank : (1, 1, 2)\n"
     ]
    }
   ],
   "source": [
    "for ticket in lst_ticket[:5]:\n",
    "    time_series = df[df.name == ticket]['close']\n",
    "    result, lst_result = run_model_without_parameters(time_series, model_selection='ARIMA', q=range(0, 4))\n",
    "    print(ticket, ':', result['order'])"
   ]
  },
  {
   "cell_type": "code",
   "execution_count": 16,
   "metadata": {
    "ExecuteTime": {
     "end_time": "2019-05-22T07:56:45.475281Z",
     "start_time": "2019-05-22T07:56:09.270925Z"
    }
   },
   "outputs": [
    {
     "name": "stdout",
     "output_type": "stream",
     "text": [
      "Ho Chi Minh City Infrastructure Investment JSC : 2 (5, 2)\n",
      "Ho Chi Minh City Development Joint Stock Commercial Bank : 1 (3, 3)\n",
      "Hoa Phat Group JSC : 1 (5, 3)\n",
      "Masan Group Corp : 1 (6, 1)\n",
      "Military Commercial Joint Stock Bank : 1 (7, 3)\n"
     ]
    }
   ],
   "source": [
    "for ticket in lst_ticket[:5]:\n",
    "    time_series = df[df.name == ticket]['close']\n",
    "    result, lst_result = run_model_without_parameters(time_series, model_selection='ANN', q=range(0, 4))\n",
    "    print(ticket, ':', result['lag'], result['hidden_layers'])"
   ]
  },
  {
   "cell_type": "code",
   "execution_count": 13,
   "metadata": {
    "ExecuteTime": {
     "end_time": "2019-05-22T07:42:26.684608Z",
     "start_time": "2019-05-22T07:42:26.644152Z"
    }
   },
   "outputs": [],
   "source": [
    "# print(result['test_evaluation'])\n",
    "# lst_dct_result = list()\n",
    "# for result_ in lst_result:\n",
    "#     lst_dct_result.append({\n",
    "#         'order': result_['order'],\n",
    "#         'mse': result_['test_evaluation']['mse'],\n",
    "#         'rmse': result_['test_evaluation']['rmse'],\n",
    "#         'mae': result_['test_evaluation']['mae'],\n",
    "#         'mape': result_['test_evaluation']['mape'],\n",
    "#     })\n",
    "# df_result = pd.DataFrame(data=lst_dct_result)\n",
    "# df_result.head(20)"
   ]
  },
  {
   "cell_type": "code",
   "execution_count": null,
   "metadata": {},
   "outputs": [],
   "source": []
  }
 ],
 "metadata": {
  "kernelspec": {
   "display_name": "Python 3",
   "language": "python",
   "name": "python3"
  },
  "language_info": {
   "codemirror_mode": {
    "name": "ipython",
    "version": 3
   },
   "file_extension": ".py",
   "mimetype": "text/x-python",
   "name": "python",
   "nbconvert_exporter": "python",
   "pygments_lexer": "ipython3",
   "version": "3.7.2"
  }
 },
 "nbformat": 4,
 "nbformat_minor": 2
}
