{
 "cells": [
  {
   "cell_type": "code",
   "execution_count": 1,
   "metadata": {
    "ExecuteTime": {
     "end_time": "2019-05-26T18:00:00.083492Z",
     "start_time": "2019-05-26T17:59:59.192348Z"
    }
   },
   "outputs": [],
   "source": [
    "%load_ext autoreload\n",
    "%autoreload 2\n",
    "%matplotlib inline\n",
    "%config InlineBackend.figure_format='retina'"
   ]
  },
  {
   "cell_type": "code",
   "execution_count": 2,
   "metadata": {
    "ExecuteTime": {
     "end_time": "2019-05-26T18:00:06.265808Z",
     "start_time": "2019-05-26T18:00:00.087045Z"
    }
   },
   "outputs": [
    {
     "name": "stderr",
     "output_type": "stream",
     "text": [
      "Using TensorFlow backend.\n"
     ]
    }
   ],
   "source": [
    "import numpy as np\n",
    "import pandas as pd\n",
    "import time\n",
    "from datetime import datetime\n",
    "from pymongo import MongoClient\n",
    "\n",
    "from src.config_tickets import ticket_lst\n",
    "from src.scraping import WebScraping\n",
    "from src.settings import HOST\n",
    "from src.query_data import QueryData\n",
    "from src.utilities import run_model_with_parameters, run_model_without_parameters\n",
    "\n",
    "import sys\n",
    "\n",
    "if not sys.warnoptions:\n",
    "    import warnings\n",
    "    warnings.simplefilter(\"ignore\")"
   ]
  },
  {
   "cell_type": "code",
   "execution_count": 3,
   "metadata": {
    "ExecuteTime": {
     "end_time": "2019-05-26T18:00:06.434317Z",
     "start_time": "2019-05-26T18:00:06.273530Z"
    }
   },
   "outputs": [],
   "source": [
    "# Display and Plotting\n",
    "import matplotlib.pylab as plt\n",
    "import seaborn as sns\n",
    "\n",
    "from ipywidgets import interactive, widgets, RadioButtons, ToggleButton, Select, FloatSlider, FloatRangeSlider, IntSlider, fixed\n",
    "\n",
    "pd.set_option('display.float_format', lambda x: '%.5f' % x) # pandas\n",
    "np.set_printoptions(precision=5, suppress=True) # numpy\n",
    "\n",
    "pd.set_option('display.max_columns', 100)\n",
    "pd.set_option('display.max_rows', 100)\n",
    "\n",
    "# seaborn plotting style\n",
    "sns.set(style='ticks', context='poster')"
   ]
  },
  {
   "cell_type": "code",
   "execution_count": 4,
   "metadata": {
    "ExecuteTime": {
     "end_time": "2019-05-26T18:00:06.482799Z",
     "start_time": "2019-05-26T18:00:06.437787Z"
    }
   },
   "outputs": [],
   "source": [
    "def connect_2_dbServer():\n",
    "    mongoClient = MongoClient(HOST)\n",
    "    return mongoClient"
   ]
  },
  {
   "cell_type": "code",
   "execution_count": null,
   "metadata": {
    "ExecuteTime": {
     "start_time": "2019-05-26T17:59:59.227Z"
    }
   },
   "outputs": [],
   "source": [
    "client = connect_2_dbServer()\n",
    "query = QueryData(client)"
   ]
  },
  {
   "cell_type": "code",
   "execution_count": null,
   "metadata": {
    "ExecuteTime": {
     "start_time": "2019-05-26T17:59:59.231Z"
    }
   },
   "outputs": [],
   "source": [
    "lst_ticket = query.get_list_ticket(index='VN 30 (VNI30)')\n",
    "print(lst_ticket)\n",
    "print(len(lst_ticket))"
   ]
  },
  {
   "cell_type": "code",
   "execution_count": null,
   "metadata": {
    "ExecuteTime": {
     "start_time": "2019-05-26T17:59:59.235Z"
    }
   },
   "outputs": [],
   "source": [
    "start = datetime(2015,1,1)\n",
    "end = datetime(2019,1,1)\n",
    "\n",
    "print(lst_ticket[:5])\n",
    "\n",
    "df = query.get_historical_data(lst_ticket, start=start)\n",
    "closed_price = dict()\n",
    "for ticket in lst_ticket[3:10]:\n",
    "    closed_price[ticket] = df[df.name == ticket]['close']\n",
    "\n",
    "series = df[df.name == 'Mobile World Investment Corp']['close']\n",
    "plt.figure(figsize=(16,8))\n",
    "plt.plot(series)\n",
    "plt.show()"
   ]
  },
  {
   "cell_type": "markdown",
   "metadata": {},
   "source": [
    "## Plot ACF and PACF"
   ]
  },
  {
   "cell_type": "code",
   "execution_count": null,
   "metadata": {
    "ExecuteTime": {
     "start_time": "2019-05-26T17:59:59.238Z"
    }
   },
   "outputs": [],
   "source": [
    "from statsmodels.tsa.stattools import pacf, acf\n",
    "\n",
    "def calculate_acf(time_series, lag=20, alpha=0.01):\n",
    "    x = time_series.values\n",
    "    acf_value, confint = acf(x, nlags=lag, alpha=alpha)\n",
    "    confint_lower = confint[:, 0] - acf_value\n",
    "    confint_upper = confint[:, 1] - acf_value\n",
    "    return acf_value, confint_upper, confint_lower\n",
    "\n",
    "\n",
    "def calculate_pacf(time_series, lag=20, alpha=0.01):\n",
    "    x = time_series.values\n",
    "    pacf_value, confint = pacf(x, nlags=lag, alpha=alpha)\n",
    "    confint_lower = confint[:, 0] - pacf_value\n",
    "    confint_upper = confint[:, 1] - pacf_value\n",
    "    return pacf_value, confint_upper, confint_lower"
   ]
  },
  {
   "cell_type": "markdown",
   "metadata": {},
   "source": [
    "## Run model"
   ]
  },
  {
   "cell_type": "markdown",
   "metadata": {},
   "source": [
    "### ARIMA model"
   ]
  },
  {
   "cell_type": "code",
   "execution_count": null,
   "metadata": {
    "ExecuteTime": {
     "start_time": "2019-05-26T17:59:59.247Z"
    },
    "scrolled": false
   },
   "outputs": [],
   "source": [
    "start_train = 0.8\n",
    "end_train = 0.95\n",
    "# for ticket in lst_ticket[5:6]:\n",
    "#     time_series = df[df.name == ticket]['close']\n",
    "#     # split data\n",
    "#     time_series = time_series.sort_index()\n",
    "#     size = len(time_series)\n",
    "#     train_start = int(start_train * size)\n",
    "#     train_end = int(end_train * size)\n",
    "#     train, test = time_series[train_start:train_end], time_series[train_end:]\n",
    "    \n",
    "#     result = run_model_with_parameters(train, test, model_selection='ARIMA', order=(1, 1, 2))\n",
    "#     if result['status']:\n",
    "#         validation = result['model'].validate(test)\n",
    "#         time.sleep(1)\n",
    "#         print(ticket)\n",
    "#         print('Training result:', result['train_evaluation'])\n",
    "#         print('Testing result:', result['test_evaluation'])\n",
    "#         fig, ax1 = plt.subplots(nrows=1, ncols=1, figsize=(15, 8))\n",
    "#         ax1.plot(train, label='in-sample', color='r', linestyle='-')\n",
    "#         ax1.plot(test, label='held-out', color='g', linestyle='--')\n",
    "#         ax1.plot(validation, label='predicted held-out', color='y', linestyle='--')\n",
    "#     #     ax1.plot(df_ann_validation['yhat'], label='validation held-out', color='purple', linestyle='--')\n",
    "#         plt.show()\n",
    "#     else:\n",
    "#         print('None')"
   ]
  },
  {
   "cell_type": "markdown",
   "metadata": {},
   "source": [
    "### ANN model"
   ]
  },
  {
   "cell_type": "code",
   "execution_count": null,
   "metadata": {
    "ExecuteTime": {
     "start_time": "2019-05-26T17:59:59.249Z"
    },
    "code_folding": [
     0
    ],
    "scrolled": false
   },
   "outputs": [],
   "source": [
    "# for ticket in lst_ticket[3:4]:\n",
    "#     time_series = df[df.name == ticket]['close']\n",
    "    \n",
    "#     # split data\n",
    "#     time_series = time_series.sort_index()\n",
    "#     size = len(time_series)\n",
    "#     train_start = int(start_train * size)\n",
    "#     train_end = int(end_train * size)\n",
    "#     train, test = time_series[train_start:train_end], time_series[train_end:]\n",
    "    \n",
    "#     result = run_model_with_parameters(train, test, model_selection='ANN', lag=1, hidden_layers=(3,1))\n",
    "#     if result['status']:\n",
    "#         validation = result['model'].validate(test)\n",
    "#         time.sleep(1)\n",
    "#         print(ticket)\n",
    "#         print('Training result:', result['train_evaluation'])\n",
    "#         print('Testing result:', result['test_evaluation'])\n",
    "#         fig, ax1 = plt.subplots(nrows=1, ncols=1, figsize=(15, 8))\n",
    "#         ax1.plot(train, label='in-sample', color='r', linestyle='-')\n",
    "#         ax1.plot(test, label='held-out', color='g', linestyle='--')\n",
    "#         ax1.plot(validation, label='predicted held-out', color='y', linestyle='--')\n",
    "#     #     ax1.plot(df_ann_validation['yhat'], label='validation held-out', color='purple', linestyle='--')\n",
    "#         plt.show()\n",
    "#     else:\n",
    "#         print('None')"
   ]
  },
  {
   "cell_type": "markdown",
   "metadata": {},
   "source": [
    "### Hybrid model"
   ]
  },
  {
   "cell_type": "code",
   "execution_count": null,
   "metadata": {
    "ExecuteTime": {
     "start_time": "2019-05-26T17:59:59.254Z"
    },
    "code_folding": [
     0
    ],
    "scrolled": false
   },
   "outputs": [],
   "source": [
    "# for ticket in lst_ticket[3:4]:\n",
    "#     time_series = df[df.name == ticket]['close']\n",
    "    \n",
    "#     # split data\n",
    "#     time_series = time_series.sort_index()\n",
    "#     size = len(time_series)\n",
    "#     train_start = int(start_train * size)\n",
    "#     train_end = int(end_train * size)\n",
    "#     train, test = time_series[train_start:train_end], time_series[train_end:]\n",
    "    \n",
    "#     result = run_model_with_parameters(train, test, model_selection='Hybrid', order=(1, 1, 0), lag=2, hidden_layers=(6, 3))\n",
    "#     if result['status']:\n",
    "#         validation = result['model'].validate(test)\n",
    "#         time.sleep(1)\n",
    "#         print(ticket)\n",
    "#         print('Training result:', result['train_evaluation'])\n",
    "#         print('Testing result:', result['test_evaluation'])\n",
    "#         fig, ax1 = plt.subplots(nrows=1, ncols=1, figsize=(15, 8))\n",
    "#         ax1.plot(train, label='in-sample', color='r', linestyle='-')\n",
    "#         ax1.plot(test, label='held-out', color='g', linestyle='--')\n",
    "#         ax1.plot(validation, label='predicted held-out', color='y', linestyle='--')\n",
    "#     #     ax1.plot(df_ann_validation['yhat'], label='validation held-out', color='purple', linestyle='--')\n",
    "#         plt.show()\n",
    "#     else:\n",
    "#         print('None')"
   ]
  },
  {
   "cell_type": "markdown",
   "metadata": {},
   "source": [
    "### Run model without parameters"
   ]
  },
  {
   "cell_type": "code",
   "execution_count": null,
   "metadata": {
    "ExecuteTime": {
     "start_time": "2019-05-26T17:59:59.367Z"
    },
    "scrolled": true
   },
   "outputs": [],
   "source": [
    "lst_hybrid = []\n",
    "for ticket in lst_ticket:\n",
    "    time_series = df[df.name == ticket]['close']\n",
    "    \n",
    "    # split data\n",
    "    time_series = time_series.sort_index()\n",
    "    size = len(time_series)\n",
    "    train_start = int(start_train * size)\n",
    "    train_end = int(end_train * size)\n",
    "    train, test = time_series[train_start:train_end], time_series[train_end:]\n",
    "    \n",
    "    result, lst_result = run_model_without_parameters(train, test, model_selection='Hybrid', q=range(0, 4))\n",
    "    print(ticket, ':', result['lag'], result['hidden_layers'], result['order'])\n",
    "    print('Training result:', result['train_evaluation'])\n",
    "    print('Testing result:', result['test_evaluation'])\n",
    "    lst_hybrid.append({\n",
    "        'name': ticket,\n",
    "        'order': result['order'],\n",
    "        'lags': result['lag'],\n",
    "        'hidden_layers': result['hidden_layers'],\n",
    "        'result': result['test_evaluation']\n",
    "    })\n",
    "    validation = result['model'].validate(test)\n",
    "    fig, ax1 = plt.subplots(nrows=1, ncols=1, figsize=(15, 8))\n",
    "    ax1.plot(train, label='in-sample', color='r', linestyle='-')\n",
    "    ax1.plot(test, label='held-out', color='g', linestyle='--')\n",
    "    ax1.plot(validation, label='predicted held-out', color='y', linestyle='--')\n",
    "    plt.xticks(rotation=70)\n",
    "    plt.ylabel('Price (VND)')\n",
    "    plt.legend(['in-sample','held-out', 'prediction'])\n",
    "    plt.title('Model evaluation of ' + ticket)\n",
    "    plt.show()"
   ]
  },
  {
   "cell_type": "code",
   "execution_count": null,
   "metadata": {
    "ExecuteTime": {
     "start_time": "2019-05-26T17:59:59.413Z"
    },
    "scrolled": true
   },
   "outputs": [],
   "source": [
    "lst_arima = []\n",
    "for ticket in lst_ticket:\n",
    "    time_series = df[df.name == ticket]['close']\n",
    "    \n",
    "    # split data\n",
    "    time_series = time_series.sort_index()\n",
    "    size = len(time_series)\n",
    "    train_start = int(start_train * size)\n",
    "    train_end = int(end_train * size)\n",
    "    train, test = time_series[train_start:train_end], time_series[train_end:]\n",
    "    \n",
    "    result, lst_result = run_model_without_parameters(train, test, model_selection='ARIMA', q=range(0, 4))\n",
    "    print(ticket, ':', result['order'])\n",
    "    print('Training result:', result['train_evaluation'])\n",
    "    print('Testing result:', result['test_evaluation'])\n",
    "    lst_arima.append({\n",
    "        'name': ticket,\n",
    "        'order': result['order'],\n",
    "#         'lags': result['lag'],\n",
    "#         'hidden_layers': result['hidden_layers'],\n",
    "        'result': result['test_evaluation']\n",
    "    })\n",
    "    validation = result['model'].validate(test)\n",
    "    fig, ax1 = plt.subplots(nrows=1, ncols=1, figsize=(15, 8))\n",
    "    ax1.plot(train, label='in-sample', color='r', linestyle='-')\n",
    "    ax1.plot(test, label='held-out', color='g', linestyle='--')\n",
    "    ax1.plot(validation, label='predicted held-out', color='y', linestyle='--')\n",
    "    plt.xticks(rotation=70)\n",
    "    plt.ylabel('Price (VND)')\n",
    "    plt.legend(['in-sample','held-out', 'prediction'])\n",
    "    plt.title('Model evaluation of ' + ticket)\n",
    "    plt.show()"
   ]
  },
  {
   "cell_type": "code",
   "execution_count": null,
   "metadata": {
    "ExecuteTime": {
     "start_time": "2019-05-26T17:59:59.423Z"
    },
    "scrolled": false
   },
   "outputs": [],
   "source": [
    "lst_ann = []\n",
    "for ticket in lst_ticket:\n",
    "    time_series = df[df.name == ticket]['close']\n",
    "    \n",
    "    # split data\n",
    "    time_series = time_series.sort_index()\n",
    "    size = len(time_series)\n",
    "    train_start = int(start_train * size)\n",
    "    train_end = int(end_train * size)\n",
    "    train, test = time_series[train_start:train_end], time_series[train_end:]\n",
    "    \n",
    "    result, lst_result = run_model_without_parameters(train, test, model_selection='ANN', q=range(0, 4))\n",
    "    print(ticket, ':', result['lag'], result['hidden_layers'])\n",
    "    print('Training result:', result['train_evaluation'])\n",
    "    print('Testing result:', result['test_evaluation'])\n",
    "    lst_ann.append({\n",
    "        'name': ticket,\n",
    "#         'order': result['order'],\n",
    "        'lags': result['lag'],\n",
    "        'hidden_layers': result['hidden_layers'],\n",
    "        'result': result['test_evaluation']\n",
    "    })\n",
    "    validation = result['model'].validate(test)\n",
    "    fig, ax1 = plt.subplots(nrows=1, ncols=1, figsize=(15, 8))\n",
    "    ax1.plot(train, label='in-sample', color='r', linestyle='-')\n",
    "    ax1.plot(test, label='held-out', color='g', linestyle='--')\n",
    "    ax1.plot(validation, label='predicted held-out', color='y', linestyle='--')\n",
    "    plt.xticks(rotation=70)\n",
    "    plt.ylabel('Price (VND)')\n",
    "    plt.legend(['in-sample','held-out', 'prediction'])\n",
    "    plt.title('Model evaluation of ' + ticket)\n",
    "    plt.show()"
   ]
  },
  {
   "cell_type": "code",
   "execution_count": null,
   "metadata": {
    "ExecuteTime": {
     "start_time": "2019-05-26T17:59:59.426Z"
    }
   },
   "outputs": [],
   "source": [
    "lst_lstm_gbm = list()\n",
    "for ticket in lst_ticket:\n",
    "    time_series = df[df.name == ticket]['close']\n",
    "    # split data\n",
    "    time_series = time_series.sort_index()\n",
    "    size = len(time_series)\n",
    "    train_start = int(start_train * size)\n",
    "    train_end = int(end_train * size)\n",
    "    train, test = time_series[train_start:train_end], time_series[train_end:]\n",
    "    print(ticket)\n",
    "    result = run_model_with_parameters(train, test, model_selection='LSTM_GBM', window_size=10, lag=10)\n",
    "    if result['status']:\n",
    "        validation = result['model'].validate(test)\n",
    "        insample_prediction = result['model'].get_insample_prediction()\n",
    "        time.sleep(1)\n",
    "        \n",
    "        print('Training result:', result['train_evaluation'])\n",
    "        print('Testing result:', result['test_evaluation'])\n",
    "        \n",
    "        lst_lstm_gbm.append({\n",
    "        'name': ticket,\n",
    "#         'order': result['order'],\n",
    "#         'lags': result['lag'],\n",
    "#         'hidden_layers': result['hidden_layers'],\n",
    "        'result': result['test_evaluation']\n",
    "    })\n",
    "        \n",
    "        fig, ax1 = plt.subplots(nrows=1, ncols=1, figsize=(15, 8))\n",
    "        ax1.plot(train, label='in-sample', color='r', linestyle='-')\n",
    "        ax1.plot(test, label='held-out', color='g', linestyle='--')\n",
    "        ax1.plot(validation, label='predicted held-out', color='y', linestyle='--')\n",
    "        plt.xticks(rotation=70)\n",
    "        plt.ylabel('Price (VND)')\n",
    "        plt.legend(['in-sample','held-out', 'prediction'])\n",
    "        plt.title('Model evaluation of ' + ticket)\n",
    "        plt.show()\n",
    "    else:\n",
    "        print('None')"
   ]
  },
  {
   "cell_type": "code",
   "execution_count": null,
   "metadata": {
    "ExecuteTime": {
     "start_time": "2019-05-26T17:59:59.429Z"
    }
   },
   "outputs": [],
   "source": [
    "# print(result['test_evaluation'])\n",
    "# lst_dct_result = list()\n",
    "# for result_ in lst_result:\n",
    "#     lst_dct_result.append({\n",
    "#         'order': result_['order'],\n",
    "#         'mse': result_['test_evaluation']['mse'],\n",
    "#         'rmse': result_['test_evaluation']['rmse'],\n",
    "#         'mae': result_['test_evaluation']['mae'],\n",
    "#         'mape': result_['test_evaluation']['mape'],\n",
    "#     })\n",
    "# df_result = pd.DataFrame(data=lst_dct_result)\n",
    "# df_result.head(20)"
   ]
  },
  {
   "cell_type": "code",
   "execution_count": null,
   "metadata": {
    "ExecuteTime": {
     "start_time": "2019-05-26T17:59:59.431Z"
    }
   },
   "outputs": [],
   "source": [
    "df_mae = pd.DataFrame(index=lst_ticket)\n",
    "df_mae['hybrid_order'] = [item['order'] for item in lst_hybrid]\n",
    "df_mae['hybrid_lags'] = [item['lags'] for item in lst_hybrid]\n",
    "df_mae['hybrid_hl'] = [item['hidden_layers'] for item in lst_hybrid]\n",
    "df_mae['hybrid'] = [item['result']['mae'] for item in lst_hybrid]\n",
    "\n",
    "df_mae['arima_order'] = [item['order'] for item in lst_arima]\n",
    "df_mae['arima'] = [item['result']['mae'] for item in lst_arima]\n",
    "\n",
    "df_mae['ann_lags'] = [item['lags'] for item in lst_ann]\n",
    "df_mae['ann_hl'] = [item['hidden_layers'] for item in lst_ann]\n",
    "df_mae['ann'] = [item['result']['mae'] for item in lst_ann]\n",
    "\n",
    "df_mae['lsmt_gbm'] = [item['result']['mae'] for item in lst_lstm_gbm]\n",
    "df_mae.to_csv('mae.csv')\n",
    "df_mae"
   ]
  },
  {
   "cell_type": "code",
   "execution_count": null,
   "metadata": {
    "ExecuteTime": {
     "start_time": "2019-05-26T17:59:59.434Z"
    }
   },
   "outputs": [],
   "source": [
    "df_mse = pd.DataFrame(index=lst_ticket)\n",
    "df_mse['hybrid_order'] = [item['order'] for item in lst_hybrid]\n",
    "df_mse['hybrid_lags'] = [item['lags'] for item in lst_hybrid]\n",
    "df_mse['hybrid_hl'] = [item['hidden_layers'] for item in lst_hybrid]\n",
    "df_mse['hybrid'] = [item['result']['mse'] for item in lst_hybrid]\n",
    "\n",
    "df_mse['arima_order'] = [item['order'] for item in lst_arima]\n",
    "df_mse['arima'] = [item['result']['mse'] for item in lst_arima]\n",
    "\n",
    "df_mse['ann_lags'] = [item['lags'] for item in lst_ann]\n",
    "df_mse['ann_hl'] = [item['hidden_layers'] for item in lst_ann]\n",
    "df_mse['ann'] = [item['result']['mse'] for item in lst_ann]\n",
    "\n",
    "df_mse['lsmt_gbm'] = [item['result']['mse'] for item in lst_lstm_gbm]\n",
    "\n",
    "df_mse.to_csv('mse.csv')"
   ]
  },
  {
   "cell_type": "code",
   "execution_count": null,
   "metadata": {
    "ExecuteTime": {
     "start_time": "2019-05-26T17:59:59.441Z"
    }
   },
   "outputs": [],
   "source": [
    "df_rmse = pd.DataFrame(index=lst_ticket)\n",
    "df_rmse['hybrid_order'] = [item['order'] for item in lst_hybrid]\n",
    "df_rmse['hybrid_lags'] = [item['lags'] for item in lst_hybrid]\n",
    "df_rmse['hybrid_hl'] = [item['hidden_layers'] for item in lst_hybrid]\n",
    "df_rmse['hybrid'] = [item['result']['rmse'] for item in lst_hybrid]\n",
    "\n",
    "df_rmse['arima_order'] = [item['order'] for item in lst_arima]\n",
    "df_rmse['arima'] = [item['result']['rmse'] for item in lst_arima]\n",
    "\n",
    "df_rmse['ann_lags'] = [item['lags'] for item in lst_ann]\n",
    "df_rmse['ann_hl'] = [item['hidden_layers'] for item in lst_ann]\n",
    "df_rmse['ann'] = [item['result']['rmse'] for item in lst_ann]\n",
    "\n",
    "df_rmse['lsmt_gbm'] = [item['result']['rmse'] for item in lst_lstm_gbm]\n",
    "\n",
    "df_rmse.to_csv('rmse.csv')"
   ]
  },
  {
   "cell_type": "code",
   "execution_count": null,
   "metadata": {
    "ExecuteTime": {
     "start_time": "2019-05-26T17:59:59.446Z"
    }
   },
   "outputs": [],
   "source": [
    "df_mape = pd.DataFrame(index=lst_ticket)\n",
    "df_mape['hybrid_order'] = [item['order'] for item in lst_hybrid]\n",
    "df_mape['hybrid_lags'] = [item['lags'] for item in lst_hybrid]\n",
    "df_mape['hybrid_hl'] = [item['hidden_layers'] for item in lst_hybrid]\n",
    "df_mape['hybrid'] = [item['result']['mape'] for item in lst_hybrid]\n",
    "\n",
    "df_mape['arima_order'] = [item['order'] for item in lst_arima]\n",
    "df_mape['arima'] = [item['result']['mape'] for item in lst_arima]\n",
    "\n",
    "df_mape['ann_lags'] = [item['lags'] for item in lst_ann]\n",
    "df_mape['ann_hl'] = [item['hidden_layers'] for item in lst_ann]\n",
    "df_mape['ann'] = [item['result']['mape'] for item in lst_ann]\n",
    "\n",
    "df_mape['lsmt_gbm'] = [item['result']['mape'] for item in lst_lstm_gbm]\n",
    "\n",
    "df_mape.to_csv('mse.csv')"
   ]
  }
 ],
 "metadata": {
  "kernelspec": {
   "display_name": "Python 3",
   "language": "python",
   "name": "python3"
  },
  "language_info": {
   "codemirror_mode": {
    "name": "ipython",
    "version": 3
   },
   "file_extension": ".py",
   "mimetype": "text/x-python",
   "name": "python",
   "nbconvert_exporter": "python",
   "pygments_lexer": "ipython3",
   "version": "3.7.2"
  }
 },
 "nbformat": 4,
 "nbformat_minor": 2
}
