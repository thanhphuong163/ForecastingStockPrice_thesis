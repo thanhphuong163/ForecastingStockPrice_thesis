{
 "cells": [
  {
   "cell_type": "code",
   "execution_count": 1,
   "metadata": {
    "ExecuteTime": {
     "end_time": "2019-05-22T14:56:52.133884Z",
     "start_time": "2019-05-22T14:56:51.865555Z"
    }
   },
   "outputs": [],
   "source": [
    "%load_ext autoreload\n",
    "%autoreload 2\n",
    "%matplotlib inline\n",
    "%config InlineBackend.figure_format='retina'"
   ]
  },
  {
   "cell_type": "code",
   "execution_count": 2,
   "metadata": {
    "ExecuteTime": {
     "end_time": "2019-05-22T14:56:53.023747Z",
     "start_time": "2019-05-22T14:56:52.137059Z"
    }
   },
   "outputs": [],
   "source": [
    "import numpy as np\n",
    "import pandas as pd\n",
    "import time\n",
    "from datetime import datetime\n",
    "from pymongo import MongoClient\n",
    "\n",
    "from src.config_tickets import ticket_lst\n",
    "from src.scraping import WebScraping\n",
    "from src.settings import HOST\n",
    "from src.query_data import QueryData\n",
    "from src.utilities import run_model_with_parameters, run_model_without_parameters\n",
    "\n",
    "import sys\n",
    "\n",
    "if not sys.warnoptions:\n",
    "    import warnings\n",
    "    warnings.simplefilter(\"ignore\")"
   ]
  },
  {
   "cell_type": "code",
   "execution_count": 3,
   "metadata": {
    "ExecuteTime": {
     "end_time": "2019-05-22T14:56:53.076081Z",
     "start_time": "2019-05-22T14:56:53.025980Z"
    }
   },
   "outputs": [],
   "source": [
    "# Display and Plotting\n",
    "import matplotlib.pylab as plt\n",
    "import seaborn as sns\n",
    "\n",
    "from ipywidgets import interactive, widgets, RadioButtons, ToggleButton, Select, FloatSlider, FloatRangeSlider, IntSlider, fixed\n",
    "\n",
    "pd.set_option('display.float_format', lambda x: '%.5f' % x) # pandas\n",
    "np.set_printoptions(precision=5, suppress=True) # numpy\n",
    "\n",
    "pd.set_option('display.max_columns', 100)\n",
    "pd.set_option('display.max_rows', 100)\n",
    "\n",
    "# seaborn plotting style\n",
    "sns.set(style='ticks', context='poster')"
   ]
  },
  {
   "cell_type": "code",
   "execution_count": 4,
   "metadata": {
    "ExecuteTime": {
     "end_time": "2019-05-22T14:56:53.098810Z",
     "start_time": "2019-05-22T14:56:53.078038Z"
    }
   },
   "outputs": [],
   "source": [
    "def connect_2_dbServer():\n",
    "    mongoClient = MongoClient(HOST)\n",
    "    return mongoClient"
   ]
  },
  {
   "cell_type": "code",
   "execution_count": 5,
   "metadata": {
    "ExecuteTime": {
     "end_time": "2019-05-22T14:56:53.125224Z",
     "start_time": "2019-05-22T14:56:53.101212Z"
    }
   },
   "outputs": [],
   "source": [
    "client = connect_2_dbServer()\n",
    "query = QueryData(client)"
   ]
  },
  {
   "cell_type": "code",
   "execution_count": 6,
   "metadata": {
    "ExecuteTime": {
     "end_time": "2019-05-22T14:56:53.428342Z",
     "start_time": "2019-05-22T14:56:53.127544Z"
    }
   },
   "outputs": [
    {
     "name": "stdout",
     "output_type": "stream",
     "text": [
      "['Ho Chi Minh City Infrastructure Investment JSC', 'Ho Chi Minh City Development Joint Stock Commercial Bank', 'Hoa Phat Group JSC', 'Masan Group Corp', 'Military Commercial Joint Stock Bank', 'Mobile World Investment Corp', 'No Va Land Investment Group Corp', 'PetroVietnam Fertilizer and Chemicals Corp', 'Phu Nhuan Jewelry JSC', 'Refrigeration Electrical Engineering Corp', 'Sai Gon Thuong Tin Commercial Joint Stock Bank', 'Saigon Beer Alcohol Beverage Corp', 'Saigon Securities Incorporation', 'Vietnam Technological And Commercial Joint Stock Bank', 'Thanh Thanh Cong Tay Ninh JSC', 'Joint Stock Commercial Bank for Foreign Trade of Vietnam', 'Vietjet Aviation JSC', 'Vietnam Export Import Commercial Joint Stock Bank', 'Vietnam JSCmmercial Bank for Industry and Trade', 'Vietnam Prosperity Joint Stock Commercial Bank', 'Vietnam Dairy Products JSC', 'Vincom Retail JSC', 'Vingroup JSC', 'Vinhomes JSC', 'Petrovietnam Gas JSC']\n"
     ]
    }
   ],
   "source": [
    "lst_ticket = query.get_list_ticket(index='VN 30 (VNI30)')\n",
    "print(lst_ticket)"
   ]
  },
  {
   "cell_type": "code",
   "execution_count": 7,
   "metadata": {
    "ExecuteTime": {
     "end_time": "2019-05-22T14:56:56.834414Z",
     "start_time": "2019-05-22T14:56:56.684330Z"
    }
   },
   "outputs": [
    {
     "name": "stdout",
     "output_type": "stream",
     "text": [
      "['Ho Chi Minh City Infrastructure Investment JSC', 'Ho Chi Minh City Development Joint Stock Commercial Bank', 'Hoa Phat Group JSC', 'Masan Group Corp', 'Military Commercial Joint Stock Bank']\n"
     ]
    }
   ],
   "source": [
    "start = datetime(2010,1,1)\n",
    "end = datetime(2019,1,1)\n",
    "\n",
    "print(lst_ticket[:5])\n",
    "\n",
    "df = query.get_historical_data(lst_ticket[:5], start=start, end=end)\n",
    "closed_price = dict()\n",
    "for ticket in lst_ticket[:5]:\n",
    "    closed_price[ticket] = df[df.name == ticket]['close']"
   ]
  },
  {
   "cell_type": "markdown",
   "metadata": {},
   "source": [
    "## Plot ACF and PACF"
   ]
  },
  {
   "cell_type": "code",
   "execution_count": 8,
   "metadata": {
    "ExecuteTime": {
     "end_time": "2019-05-22T14:57:04.634797Z",
     "start_time": "2019-05-22T14:57:04.593403Z"
    }
   },
   "outputs": [],
   "source": [
    "from statsmodels.tsa.stattools import pacf, acf\n",
    "\n",
    "def calculate_acf(time_series, lag=20, alpha=0.01):\n",
    "    x = time_series.values\n",
    "    acf_value, confint = acf(x, nlags=lag, alpha=alpha)\n",
    "    confint_lower = confint[:, 0] - acf_value\n",
    "    confint_upper = confint[:, 1] - acf_value\n",
    "    return acf_value, confint_upper, confint_lower\n",
    "\n",
    "\n",
    "def calculate_pacf(time_series, lag=20, alpha=0.01):\n",
    "    x = time_series.values\n",
    "    pacf_value, confint = pacf(x, nlags=lag, alpha=alpha)\n",
    "    confint_lower = confint[:, 0] - pacf_value\n",
    "    confint_upper = confint[:, 1] - pacf_value\n",
    "    return pacf_value, confint_upper, confint_lower"
   ]
  },
  {
   "cell_type": "markdown",
   "metadata": {},
   "source": [
    "## Run model"
   ]
  },
  {
   "cell_type": "markdown",
   "metadata": {},
   "source": [
    "### ARIMA model"
   ]
  },
  {
   "cell_type": "code",
   "execution_count": 9,
   "metadata": {
    "ExecuteTime": {
     "end_time": "2019-05-22T14:57:11.856086Z",
     "start_time": "2019-05-22T14:57:06.294319Z"
    }
   },
   "outputs": [
    {
     "name": "stdout",
     "output_type": "stream",
     "text": [
      "Ho Chi Minh City Infrastructure Investment JSC\n",
      "Training result: {'mse': 2292548.081561389, 'rmse': 1514.1162708198433, 'mae': 1110.5542485873066, 'mape': 3.616332626362824}\n",
      "Testing result: {'mse': 1121170.3347406513, 'rmse': 1058.8533112479042, 'mae': 799.4712728717434, 'mape': 3.21578642213701}\n",
      "Ho Chi Minh City Development Joint Stock Commercial Bank\n",
      "Training result: {'mse': 715864.913323427, 'rmse': 846.088005661011, 'mae': 661.9453234499405, 'mape': 2.2007933456231252}\n",
      "Testing result: {'mse': 125634.02197809114, 'rmse': 354.44889896583277, 'mae': 289.0280462710216, 'mape': 0.9970510882658592}\n",
      "Hoa Phat Group JSC\n",
      "Training result: {'mse': 1555976.883578297, 'rmse': 1247.3880244648403, 'mae': 931.4530404557088, 'mape': 2.4271721844256766}\n",
      "Testing result: {'mse': 863472.3308899885, 'rmse': 929.2321189509048, 'mae': 713.451046205636, 'mape': 2.1788873936193545}\n",
      "Masan Group Corp\n",
      "Training result: {'mse': 17009743.410514235, 'rmse': 4124.287018445035, 'mae': 2894.9199857529634, 'mape': 3.4084766456363567}\n",
      "Testing result: {'mse': 2801448.1696003685, 'rmse': 1673.7527205654867, 'mae': 1276.5299402133148, 'mape': 1.552127843353194}\n",
      "Military Commercial Joint Stock Bank\n",
      "Training result: {'mse': 816461.3751896141, 'rmse': 903.582522622928, 'mae': 685.219628904929, 'mape': 2.9817050081599885}\n",
      "Testing result: {'mse': 845534.4105925652, 'rmse': 919.5294506390566, 'mae': 596.5033536267489, 'mape': 2.89463039132223}\n"
     ]
    }
   ],
   "source": [
    "for ticket in lst_ticket[:5]:\n",
    "    time_series = df[df.name == ticket]['close']\n",
    "    result = run_model_with_parameters(time_series, model_selection='ARIMA')\n",
    "    time.sleep(1)\n",
    "    print(ticket)\n",
    "    print('Training result:', result['train_evaluation'])\n",
    "    print('Testing result:', result['test_evaluation'])"
   ]
  },
  {
   "cell_type": "markdown",
   "metadata": {},
   "source": [
    "### ANN model"
   ]
  },
  {
   "cell_type": "code",
   "execution_count": null,
   "metadata": {
    "ExecuteTime": {
     "end_time": "2019-05-22T14:49:40.741844Z",
     "start_time": "2019-05-22T14:49:36.624Z"
    }
   },
   "outputs": [],
   "source": [
    "for ticket in lst_ticket[:5]:\n",
    "    time_series = df[df.name == ticket]['close']\n",
    "    result = run_model_with_parameters(time_series, model_selection='ANN')\n",
    "    time.sleep(1)\n",
    "    print(ticket)\n",
    "    print('Training result:', result['train_evaluation'])\n",
    "    print('Testing result:', result['test_evaluation'])"
   ]
  },
  {
   "cell_type": "markdown",
   "metadata": {},
   "source": [
    "### Hybrid model"
   ]
  },
  {
   "cell_type": "code",
   "execution_count": null,
   "metadata": {
    "ExecuteTime": {
     "end_time": "2019-05-22T14:49:40.743525Z",
     "start_time": "2019-05-22T14:49:36.626Z"
    },
    "scrolled": true
   },
   "outputs": [],
   "source": [
    "for ticket in lst_ticket[:5]:\n",
    "    time_series = df[df.name == ticket]['close']\n",
    "    result = run_model_with_parameters(time_series, model_selection='Hybrid')\n",
    "    time.sleep(1)\n",
    "    print(ticket)\n",
    "    print('Training result:', result['train_evaluation'])\n",
    "    print('Testing result:', result['test_evaluation'])"
   ]
  },
  {
   "cell_type": "markdown",
   "metadata": {},
   "source": [
    "### Run model without parameters"
   ]
  },
  {
   "cell_type": "code",
   "execution_count": null,
   "metadata": {
    "ExecuteTime": {
     "end_time": "2019-05-22T14:49:40.745594Z",
     "start_time": "2019-05-22T14:49:36.628Z"
    },
    "scrolled": false
   },
   "outputs": [],
   "source": [
    "for ticket in lst_ticket[:5]:\n",
    "    time_series = df[df.name == ticket]['close']\n",
    "    result, lst_result = run_model_without_parameters(time_series, model_selection='Hybrid', q=range(0, 4))\n",
    "    print(ticket, ':', result['lag'], result['hidden_layers'], result['order'])"
   ]
  },
  {
   "cell_type": "code",
   "execution_count": null,
   "metadata": {
    "ExecuteTime": {
     "end_time": "2019-05-22T14:49:40.747592Z",
     "start_time": "2019-05-22T14:49:36.631Z"
    }
   },
   "outputs": [],
   "source": [
    "for ticket in lst_ticket[:5]:\n",
    "    time_series = df[df.name == ticket]['close']\n",
    "    result, lst_result = run_model_without_parameters(time_series, model_selection='ARIMA', q=range(0, 4))\n",
    "    print(ticket, ':', result['order'])"
   ]
  },
  {
   "cell_type": "code",
   "execution_count": null,
   "metadata": {
    "ExecuteTime": {
     "end_time": "2019-05-22T14:49:40.749630Z",
     "start_time": "2019-05-22T14:49:36.633Z"
    }
   },
   "outputs": [],
   "source": [
    "for ticket in lst_ticket[:5]:\n",
    "    time_series = df[df.name == ticket]['close']\n",
    "    result, lst_result = run_model_without_parameters(time_series, model_selection='ANN', q=range(0, 4))\n",
    "    print(ticket, ':', result['lag'], result['hidden_layers'])"
   ]
  },
  {
   "cell_type": "code",
   "execution_count": null,
   "metadata": {
    "ExecuteTime": {
     "end_time": "2019-05-22T14:49:40.751894Z",
     "start_time": "2019-05-22T14:49:36.635Z"
    }
   },
   "outputs": [],
   "source": [
    "# print(result['test_evaluation'])\n",
    "# lst_dct_result = list()\n",
    "# for result_ in lst_result:\n",
    "#     lst_dct_result.append({\n",
    "#         'order': result_['order'],\n",
    "#         'mse': result_['test_evaluation']['mse'],\n",
    "#         'rmse': result_['test_evaluation']['rmse'],\n",
    "#         'mae': result_['test_evaluation']['mae'],\n",
    "#         'mape': result_['test_evaluation']['mape'],\n",
    "#     })\n",
    "# df_result = pd.DataFrame(data=lst_dct_result)\n",
    "# df_result.head(20)"
   ]
  },
  {
   "cell_type": "code",
   "execution_count": null,
   "metadata": {},
   "outputs": [],
   "source": []
  }
 ],
 "metadata": {
  "kernelspec": {
   "display_name": "Python 3",
   "language": "python",
   "name": "python3"
  },
  "language_info": {
   "codemirror_mode": {
    "name": "ipython",
    "version": 3
   },
   "file_extension": ".py",
   "mimetype": "text/x-python",
   "name": "python",
   "nbconvert_exporter": "python",
   "pygments_lexer": "ipython3",
   "version": "3.7.2"
  }
 },
 "nbformat": 4,
 "nbformat_minor": 2
}
